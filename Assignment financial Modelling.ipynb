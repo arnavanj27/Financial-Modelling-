{
 "cells": [
  {
   "cell_type": "code",
   "execution_count": 1,
   "id": "6612f0fe-e360-455f-9229-4f0d32278d3b",
   "metadata": {},
   "outputs": [],
   "source": [
    "import numpy as np\n",
    "import pandas as pd\n",
    "from sklearn.linear_model import LinearRegression\n",
    "import matplotlib.pyplot as plt"
   ]
  },
  {
   "cell_type": "code",
   "execution_count": 2,
   "id": "585ed3e7-481d-451b-84e0-a7980d31b0af",
   "metadata": {},
   "outputs": [],
   "source": [
    "nifty=pd.read_csv('nifty.csv')\n",
    "tata=pd.read_csv('TATAMOTORS.csv')"
   ]
  },
  {
   "cell_type": "markdown",
   "id": "6825d26a-9fb3-4cd5-a039-c240a4bb4165",
   "metadata": {},
   "source": [
    "#### Check for NaN values"
   ]
  },
  {
   "cell_type": "code",
   "execution_count": 3,
   "id": "f0b841ed-7395-4054-a14c-c4aba554f57a",
   "metadata": {},
   "outputs": [
    {
     "data": {
      "text/plain": [
       "Date         0\n",
       "Open         0\n",
       "High         0\n",
       "Low          0\n",
       "Close        0\n",
       "Adj Close    0\n",
       "Volume       0\n",
       "dtype: int64"
      ]
     },
     "execution_count": 3,
     "metadata": {},
     "output_type": "execute_result"
    }
   ],
   "source": [
    "nifty.isnull().sum()"
   ]
  },
  {
   "cell_type": "code",
   "execution_count": 4,
   "id": "1d4d6ba6-9f76-40e8-82a0-a0e381f38fcd",
   "metadata": {},
   "outputs": [
    {
     "data": {
      "text/plain": [
       "Date         0\n",
       "Open         0\n",
       "High         0\n",
       "Low          0\n",
       "Close        0\n",
       "Adj Close    0\n",
       "Volume       0\n",
       "dtype: int64"
      ]
     },
     "execution_count": 4,
     "metadata": {},
     "output_type": "execute_result"
    }
   ],
   "source": [
    "tata.isnull().sum()"
   ]
  },
  {
   "cell_type": "markdown",
   "id": "9a0b8893-dddd-44c3-9e77-224dc09b9a9c",
   "metadata": {},
   "source": [
    "###### Daily Returns = % change in close price"
   ]
  },
  {
   "cell_type": "code",
   "execution_count": 44,
   "id": "9996340a-a8a5-4b56-a72d-ba677530a111",
   "metadata": {},
   "outputs": [],
   "source": [
    "tata_returns=tata['Close'].pct_change()\n",
    "nifty_returns=nifty['Close'].pct_change()"
   ]
  },
  {
   "cell_type": "code",
   "execution_count": 45,
   "id": "7ec239da-3bfc-418d-a325-af70b7aa4f2f",
   "metadata": {},
   "outputs": [],
   "source": [
    "tata['Returns']=tata_returns\n",
    "nifty['Returns']=nifty_returns"
   ]
  },
  {
   "cell_type": "code",
   "execution_count": 46,
   "id": "8495a5ca-f1cc-487d-896a-5feae4b966a4",
   "metadata": {},
   "outputs": [],
   "source": [
    "tata.dropna(inplace=True)\n",
    "nifty.dropna(inplace=True)"
   ]
  },
  {
   "cell_type": "markdown",
   "id": "ea37ff3d-821c-4ff0-8372-bb9bb599059d",
   "metadata": {},
   "source": [
    "###### beta is calculated by dividing the covariance of the security's returns and the market's returns by the variance of the market's returns over a specified period."
   ]
  },
  {
   "cell_type": "code",
   "execution_count": 47,
   "id": "00a5cb40-6687-4269-bd91-42782dfebf54",
   "metadata": {},
   "outputs": [],
   "source": [
    "df_returns=pd.DataFrame()\n",
    "df_returns['Tata']=list(tata['Returns'])\n",
    "df_returns['Nifty']=list(nifty['Returns'])"
   ]
  },
  {
   "cell_type": "code",
   "execution_count": 48,
   "id": "254d870b-7ece-4021-a664-64872048b100",
   "metadata": {},
   "outputs": [],
   "source": [
    "cov_matrix=df_returns.cov()"
   ]
  },
  {
   "cell_type": "code",
   "execution_count": 49,
   "id": "ddfdd34f-9020-46e2-98c1-92c2f532ad58",
   "metadata": {},
   "outputs": [
    {
     "data": {
      "text/html": [
       "<div>\n",
       "<style scoped>\n",
       "    .dataframe tbody tr th:only-of-type {\n",
       "        vertical-align: middle;\n",
       "    }\n",
       "\n",
       "    .dataframe tbody tr th {\n",
       "        vertical-align: top;\n",
       "    }\n",
       "\n",
       "    .dataframe thead th {\n",
       "        text-align: right;\n",
       "    }\n",
       "</style>\n",
       "<table border=\"1\" class=\"dataframe\">\n",
       "  <thead>\n",
       "    <tr style=\"text-align: right;\">\n",
       "      <th></th>\n",
       "      <th>Tata</th>\n",
       "      <th>Nifty</th>\n",
       "    </tr>\n",
       "  </thead>\n",
       "  <tbody>\n",
       "    <tr>\n",
       "      <th>Tata</th>\n",
       "      <td>0.000227</td>\n",
       "      <td>0.000043</td>\n",
       "    </tr>\n",
       "    <tr>\n",
       "      <th>Nifty</th>\n",
       "      <td>0.000043</td>\n",
       "      <td>0.000039</td>\n",
       "    </tr>\n",
       "  </tbody>\n",
       "</table>\n",
       "</div>"
      ],
      "text/plain": [
       "           Tata     Nifty\n",
       "Tata   0.000227  0.000043\n",
       "Nifty  0.000043  0.000039"
      ]
     },
     "execution_count": 49,
     "metadata": {},
     "output_type": "execute_result"
    }
   ],
   "source": [
    "cov_matrix"
   ]
  },
  {
   "cell_type": "code",
   "execution_count": 50,
   "id": "a4c3b2b6-729c-432a-a00a-65b2877c85ef",
   "metadata": {},
   "outputs": [],
   "source": [
    "covariance=cov_matrix['Tata'][1]\n",
    "nifty_variance=cov_matrix['Nifty'][1]"
   ]
  },
  {
   "cell_type": "code",
   "execution_count": 51,
   "id": "c48e1af8-0b41-4845-82a9-94632f6cbb12",
   "metadata": {},
   "outputs": [],
   "source": [
    "beta=covariance/nifty_variance"
   ]
  },
  {
   "cell_type": "code",
   "execution_count": 52,
   "id": "297328c5-e789-41dc-bc9a-4d7ede2e915e",
   "metadata": {},
   "outputs": [
    {
     "data": {
      "text/plain": [
       "1.1007792310760245"
      ]
     },
     "execution_count": 52,
     "metadata": {},
     "output_type": "execute_result"
    }
   ],
   "source": [
    "beta"
   ]
  },
  {
   "cell_type": "markdown",
   "id": "ba429549-62c7-42d8-a8cb-77674103c040",
   "metadata": {},
   "source": [
    "### Beta = 1.1"
   ]
  },
  {
   "cell_type": "markdown",
   "id": "5508cc2a-6c26-4451-ae7f-c27ff8474be9",
   "metadata": {},
   "source": [
    "###### Now we need to find daily risk free return"
   ]
  },
  {
   "cell_type": "code",
   "execution_count": 53,
   "id": "8d3b275b-6e0d-4048-a33d-54b4aa009184",
   "metadata": {},
   "outputs": [],
   "source": [
    "risk_free_rate=7.015/100"
   ]
  },
  {
   "cell_type": "code",
   "execution_count": 54,
   "id": "cdcad641-24c6-4f21-acbc-3d89686f29c8",
   "metadata": {},
   "outputs": [],
   "source": [
    "num_days=len(nifty)"
   ]
  },
  {
   "cell_type": "code",
   "execution_count": 55,
   "id": "9bc981a6-e628-4364-8de2-024218d130f9",
   "metadata": {},
   "outputs": [],
   "source": [
    "Rf=(1+risk_free_rate)**(1/num_days)-1"
   ]
  },
  {
   "cell_type": "code",
   "execution_count": 56,
   "id": "96bd83cd-7f9e-4e4b-b78d-8cf29d46c691",
   "metadata": {},
   "outputs": [
    {
     "data": {
      "text/plain": [
       "0.00028136250265919927"
      ]
     },
     "execution_count": 56,
     "metadata": {},
     "output_type": "execute_result"
    }
   ],
   "source": [
    "Rf"
   ]
  },
  {
   "cell_type": "markdown",
   "id": "69f2ce8e-bf53-4248-9074-92deb21576b7",
   "metadata": {},
   "source": [
    "##### Alpha = R – Rf – beta (Rm-Rf)\n",
    "##### R: Asset return, Rm: market return"
   ]
  },
  {
   "cell_type": "code",
   "execution_count": 57,
   "id": "3415c767-7f78-403c-b591-e163120ce99e",
   "metadata": {},
   "outputs": [],
   "source": [
    "R=tata['Returns'].mean()\n",
    "Rm=nifty['Returns'].mean()"
   ]
  },
  {
   "cell_type": "code",
   "execution_count": 58,
   "id": "438fc657-382e-4ef1-884f-bd42064585e0",
   "metadata": {},
   "outputs": [],
   "source": [
    "alpha=R-Rf-beta*(Rm-Rf)"
   ]
  },
  {
   "cell_type": "code",
   "execution_count": 59,
   "id": "b22d2ac0-30b0-45c2-836e-4e6dc95a01cc",
   "metadata": {},
   "outputs": [
    {
     "data": {
      "text/plain": [
       "0.0025322711929178857"
      ]
     },
     "execution_count": 59,
     "metadata": {},
     "output_type": "execute_result"
    }
   ],
   "source": [
    "alpha"
   ]
  },
  {
   "cell_type": "markdown",
   "id": "ada999af-5dc5-4bd7-8e4d-4b9ce0ed3e6f",
   "metadata": {},
   "source": [
    "### Alpha = 0.0025"
   ]
  },
  {
   "cell_type": "markdown",
   "id": "7ed3f78e-87a7-41ac-82f0-683c9b426bce",
   "metadata": {},
   "source": [
    "##### Sharpe Ratio"
   ]
  },
  {
   "attachments": {
    "c12c6623-b28a-497c-b3a1-682b21bdeee7.png": {
     "image/png": "[encoded data removed]"
    }
   },
   "cell_type": "markdown",
   "id": "cf0cecf9-8594-4c0b-8831-953f4172549f",
   "metadata": {},
   "source": [
    "##### ![image.png](attachment:c12c6623-b28a-497c-b3a1-682b21bdeee7.png)"
   ]
  },
  {
   "cell_type": "markdown",
   "id": "0dab643c-3751-40c5-83c1-2c24fc5920b8",
   "metadata": {},
   "source": [
    "###### Ra: Asset Return\n",
    "###### Rb: Riskfree Return"
   ]
  },
  {
   "cell_type": "code",
   "execution_count": 60,
   "id": "561c1c0e-a0f2-475e-8492-c6daef23de40",
   "metadata": {},
   "outputs": [],
   "source": [
    "tata_sharpe=(tata['Returns'].mean()-Rf)/(tata['Returns'].std())\n",
    "nifty_sharpe=(nifty['Returns'].mean()-Rf)/(nifty['Returns'].std())"
   ]
  },
  {
   "cell_type": "code",
   "execution_count": 61,
   "id": "56f69b58-c851-4bc5-81b3-deb718c74134",
   "metadata": {},
   "outputs": [
    {
     "data": {
      "text/plain": [
       "0.22198412610042295"
      ]
     },
     "execution_count": 61,
     "metadata": {},
     "output_type": "execute_result"
    }
   ],
   "source": [
    "tata_sharpe"
   ]
  },
  {
   "cell_type": "code",
   "execution_count": 62,
   "id": "84b04343-fdcf-4790-b47e-5cf6bfe3a4b6",
   "metadata": {},
   "outputs": [
    {
     "data": {
      "text/plain": [
       "0.11805792987728883"
      ]
     },
     "execution_count": 62,
     "metadata": {},
     "output_type": "execute_result"
    }
   ],
   "source": [
    "nifty_sharpe"
   ]
  },
  {
   "cell_type": "code",
   "execution_count": 71,
   "id": "97aa3258-e428-4313-b65b-88ab72bac896",
   "metadata": {},
   "outputs": [],
   "source": [
    "def max_drawdown(share):\n",
    "    prices=np.array(share['Close'])\n",
    "    max_prices=np.maximum.accumulate(prices)\n",
    "    drawdown=np.abs((prices-max_prices)/(max_prices))\n",
    "    return max(list(drawdown))*100"
   ]
  },
  {
   "cell_type": "code",
   "execution_count": 72,
   "id": "2ac42880-d84f-4d9d-91ce-ca3c350a5ab5",
   "metadata": {},
   "outputs": [],
   "source": [
    "tata_drawdown=max_drawdown(tata)\n",
    "nifty_drawdown=max_drawdown(nifty)"
   ]
  },
  {
   "cell_type": "code",
   "execution_count": 73,
   "id": "ffbb6c27-d57e-4f30-a177-59288f001f4a",
   "metadata": {},
   "outputs": [
    {
     "data": {
      "text/plain": [
       "9.511212579573344"
      ]
     },
     "execution_count": 73,
     "metadata": {},
     "output_type": "execute_result"
    }
   ],
   "source": [
    "tata_drawdown"
   ]
  },
  {
   "cell_type": "code",
   "execution_count": 74,
   "id": "dba1d52f-9a8e-4a37-9a0b-6b46203238cc",
   "metadata": {},
   "outputs": [
    {
     "data": {
      "text/plain": [
       "6.611908147652758"
      ]
     },
     "execution_count": 74,
     "metadata": {},
     "output_type": "execute_result"
    }
   ],
   "source": [
    "nifty_drawdown"
   ]
  },
  {
   "cell_type": "markdown",
   "id": "58251eb5-ef9e-4474-9d40-874422e953a3",
   "metadata": {},
   "source": [
    "### MDD of Tata Motors is 9.5 %\n",
    "### MDD of Nifty is 6.6 &"
   ]
  }
 ],
 "metadata": {
  "kernelspec": {
   "display_name": "Python 3 (ipykernel)",
   "language": "python",
   "name": "python3"
  },
  "language_info": {
   "codemirror_mode": {
    "name": "ipython",
    "version": 3
   },
   "file_extension": ".py",
   "mimetype": "text/x-python",
   "name": "python",
   "nbconvert_exporter": "python",
   "pygments_lexer": "ipython3",
   "version": "3.10.12"
  }
 },
 "nbformat": 4,
 "nbformat_minor": 5
}
